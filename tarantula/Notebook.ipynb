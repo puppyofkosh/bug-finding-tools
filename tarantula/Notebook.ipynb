{
 "cells": [
  {
   "cell_type": "code",
   "execution_count": 1,
   "metadata": {
    "collapsed": false
   },
   "outputs": [],
   "source": [
    "from imp import reload\n",
    "import run_result\n",
    "reload(run_result)\n",
    "import tarantula\n",
    "reload(tarantula)\n",
    "import spectra_filter\n",
    "reload(spectra_filter)\n",
    "import feature_computer\n",
    "reload(feature_computer)\n",
    "import main\n",
    "reload(main)\n",
    "\n",
    "import matplotlib.pyplot as plt\n",
    "import numpy as np\n",
    "\n",
    "VER = \"v17\"\n",
    "FEAT_FILE = \"features/totinfo-{0}.feat\".format(VER)\n",
    "SPEC_FILE = \"spectra/totinfo-{0}.res\".format(VER)"
   ]
  },
  {
   "cell_type": "code",
   "execution_count": 2,
   "metadata": {
    "collapsed": false
   },
   "outputs": [],
   "source": [
    "features = feature_computer.load(FEAT_FILE)\n"
   ]
  },
  {
   "cell_type": "code",
   "execution_count": 3,
   "metadata": {
    "collapsed": false,
    "scrolled": true
   },
   "outputs": [],
   "source": [
    "furthest = [f['min_common_over_failing'] for f in features.values()]\n",
    "closest = [f['max_common_over_failing'] for f in features.values()]\n",
    "avg = [f['avg_common_over_failing'] for f in features.values()]\n",
    "\n",
    "furthest_ne = [f['min_common_ne_over_failing'] for f in features.values()]\n",
    "closest_ne = [f['max_common_ne_over_failing'] for f in features.values()]\n",
    "avg_ne = [f['avg_common_ne_over_failing'] for f in features.values()]\n",
    "\n",
    "common = [f['common_over_intersection'] for f in features.values()]\n",
    "common_ne = [f['common_ne_over_intersection'] for f in features.values()]\n",
    "\n",
    "def make_hist(a, b=None):\n",
    "    plt.figure(1)\n",
    "    plt.subplot(211)\n",
    "    n, bins, patches = plt.hist(a, 50, normed=1, facecolor='green', alpha=0.75)\n",
    "    \n",
    "    if b:\n",
    "        plt.subplot(212)\n",
    "        n, bins, patches = plt.hist(b, 50, normed=1, facecolor='green', alpha=0.75)\n",
    "    \n",
    "    plt.show()"
   ]
  },
  {
   "cell_type": "code",
   "execution_count": 4,
   "metadata": {
    "collapsed": false
   },
   "outputs": [],
   "source": [
    "make_hist(common)\n"
   ]
  },
  {
   "cell_type": "code",
   "execution_count": 5,
   "metadata": {
    "collapsed": false
   },
   "outputs": [
    {
     "name": "stdout",
     "output_type": "stream",
     "text": [
      "Loading spectra/totinfo-v17.res\n"
     ]
    }
   ],
   "source": [
    "run_to_result = run_result.load(SPEC_FILE)\n",
    "passing_spectra, failing_spectra = run_result.\\\n",
    "                                   get_passing_failing(run_to_result)\n"
   ]
  },
  {
   "cell_type": "code",
   "execution_count": 6,
   "metadata": {
    "collapsed": false
   },
   "outputs": [
    {
     "data": {
      "text/plain": [
       "{41: 1,\n",
       " 50: 1,\n",
       " 53: 1,\n",
       " 55: 18,\n",
       " 57: 16,\n",
       " 60: 16,\n",
       " 61: 5,\n",
       " 63: 11,\n",
       " 65: 8,\n",
       " 66: 8,\n",
       " 69: 3,\n",
       " 71: 0,\n",
       " 72: 0,\n",
       " 75: 3,\n",
       " 77: 0,\n",
       " 78: 0,\n",
       " 83: 10,\n",
       " 84: 27,\n",
       " 85: 20,\n",
       " 87: 0,\n",
       " 90: 0,\n",
       " 95: 3,\n",
       " 99: 3,\n",
       " 101: 0,\n",
       " 105: 0,\n",
       " 106: 0,\n",
       " 109: 6,\n",
       " 110: 3,\n",
       " 117: 1,\n",
       " 119: 1,\n",
       " 120: 1,\n",
       " 123: 0,\n",
       " 127: 0,\n",
       " 150: 0,\n",
       " 162: 0,\n",
       " 164: 0,\n",
       " 166: 0,\n",
       " 169: 0,\n",
       " 170: 0,\n",
       " 172: 0,\n",
       " 174: 0,\n",
       " 175: 0,\n",
       " 177: 0,\n",
       " 184: 0,\n",
       " 191: 0,\n",
       " 192: 0,\n",
       " 194: 0,\n",
       " 196: 0,\n",
       " 198: 0,\n",
       " 200: 0,\n",
       " 201: 0,\n",
       " 205: 0,\n",
       " 208: 0,\n",
       " 212: 0,\n",
       " 213: 0,\n",
       " 215: 0,\n",
       " 218: 0,\n",
       " 219: 0,\n",
       " 221: 0,\n",
       " 222: 0,\n",
       " 223: 0,\n",
       " 224: 0,\n",
       " 225: 0,\n",
       " 227: 0,\n",
       " 229: 0,\n",
       " 231: 0,\n",
       " 233: 0,\n",
       " 234: 0,\n",
       " 236: 0,\n",
       " 241: 0,\n",
       " 244: 0,\n",
       " 248: 0,\n",
       " 252: 0,\n",
       " 256: 0,\n",
       " 293: 3,\n",
       " 305: 3,\n",
       " 306: 3,\n",
       " 308: 3,\n",
       " 310: 2,\n",
       " 311: 2,\n",
       " 314: 1,\n",
       " 316: 1,\n",
       " 318: 0,\n",
       " 319: 0,\n",
       " 322: 1,\n",
       " 324: 0,\n",
       " 325: 0,\n",
       " 330: 1,\n",
       " 332: 5,\n",
       " 334: 4,\n",
       " 336: 20,\n",
       " 338: 16,\n",
       " 340: 16,\n",
       " 342: 0,\n",
       " 343: 0,\n",
       " 346: 16,\n",
       " 349: 4,\n",
       " 352: 1,\n",
       " 354: 1,\n",
       " 355: 1,\n",
       " 360: 0,\n",
       " 362: 0,\n",
       " 364: 0,\n",
       " 365: 0,\n",
       " 367: 0,\n",
       " 372: 0,\n",
       " 374: 0,\n",
       " 376: 0,\n",
       " 378: 0,\n",
       " 379: 0,\n",
       " 381: 0,\n",
       " 383: 0,\n",
       " 385: 0,\n",
       " 386: 0,\n",
       " 390: 0,\n",
       " 392: 0,\n",
       " 394: 0,\n",
       " 395: 0,\n",
       " 398: 0,\n",
       " 401: 1,\n",
       " 403: 1,\n",
       " 405: 3}"
      ]
     },
     "execution_count": 6,
     "metadata": {},
     "output_type": "execute_result"
    }
   ],
   "source": [
    "passing_spectra[0]"
   ]
  },
  {
   "cell_type": "code",
   "execution_count": 7,
   "metadata": {
    "collapsed": false
   },
   "outputs": [],
   "source": [
    "v = [-37.62291378,  40.00143376, -70.8492753 ,  10.26629706,\n",
    "    -8.56173463,   5.84831631,  69.87114747]\n",
    "cutoff =  14.53469889\n",
    "filter_obj = spectra_filter.DotProductFilter(v, cutoff, features)\n"
   ]
  },
  {
   "cell_type": "code",
   "execution_count": 8,
   "metadata": {
    "collapsed": false
   },
   "outputs": [],
   "source": [
    "f_passing_spectra, f_failing_spectra = filter_obj.filter_tests(run_to_result)"
   ]
  },
  {
   "cell_type": "code",
   "execution_count": 9,
   "metadata": {
    "collapsed": false
   },
   "outputs": [
    {
     "name": "stdout",
     "output_type": "stream",
     "text": [
      "255\n",
      "882\n"
     ]
    }
   ],
   "source": [
    "print(len(f_passing_spectra))\n",
    "print(len(passing_spectra))\n",
    "\n",
    "def get_lines_run(spectrum):\n",
    "    return [k for k in spectrum if spectrum[k] > 0]\n"
   ]
  },
  {
   "cell_type": "code",
   "execution_count": 10,
   "metadata": {
    "collapsed": false
   },
   "outputs": [],
   "source": [
    "f_run = sum((get_lines_run(s) for s in f_passing_spectra), [])\n",
    "n_run = sum((get_lines_run(s) for s in passing_spectra.values()), [])\n",
    "failing_spectra_run = sum((get_lines_run(s) for s in failing_spectra.values()), [])"
   ]
  },
  {
   "cell_type": "code",
   "execution_count": 11,
   "metadata": {
    "collapsed": true
   },
   "outputs": [],
   "source": [
    "make_hist(failing_spectra_run, n_run)"
   ]
  },
  {
   "cell_type": "code",
   "execution_count": 272,
   "metadata": {
    "collapsed": false
   },
   "outputs": [
    {
     "name": "stdout",
     "output_type": "stream",
     "text": [
      "0.22950819672131148\n"
     ]
    }
   ],
   "source": [
    "(f_ranks, f_suspiciousness, f_line, f_score) = main.get_tarantula_output(\"totinfo\", VER, True)\n",
    "print(f_score)"
   ]
  },
  {
   "cell_type": "code",
   "execution_count": 117,
   "metadata": {
    "collapsed": false,
    "scrolled": true
   },
   "outputs": [],
   "source": [
    "with_line = {t:p for t,p in passing_spectra.items() if p[355] == 1}\n",
    "with_line_features = {t:features[t] for t in with_line}"
   ]
  },
  {
   "cell_type": "code",
   "execution_count": 118,
   "metadata": {
    "collapsed": false
   },
   "outputs": [],
   "source": [
    "test = [f[1] for f in with_line_features.values()]\n",
    "n, bins, patches = plt.hist(test, 50, normed=1, facecolor='green', alpha=0.75)\n",
    "plt.show()"
   ]
  },
  {
   "cell_type": "code",
   "execution_count": 39,
   "metadata": {
    "collapsed": false
   },
   "outputs": [
    {
     "data": {
      "text/plain": [
       "33"
      ]
     },
     "execution_count": 39,
     "metadata": {},
     "output_type": "execute_result"
    }
   ],
   "source": [
    "f = np.array(failing_spectra_run)\n",
    "len(failing_spectra)"
   ]
  },
  {
   "cell_type": "code",
   "execution_count": 209,
   "metadata": {
    "collapsed": false
   },
   "outputs": [
    {
     "data": {
      "text/plain": [
       "170"
      ]
     },
     "execution_count": 209,
     "metadata": {},
     "output_type": "execute_result"
    }
   ],
   "source": [
    "len(failing_spectra)"
   ]
  },
  {
   "cell_type": "code",
   "execution_count": 4,
   "metadata": {
    "collapsed": false
   },
   "outputs": [
    {
     "data": {
      "text/plain": [
       "1052"
      ]
     },
     "execution_count": 4,
     "metadata": {},
     "output_type": "execute_result"
    }
   ],
   "source": [
    "len(run_to_result)"
   ]
  },
  {
   "cell_type": "code",
   "execution_count": 8,
   "metadata": {
    "collapsed": true
   },
   "outputs": [],
   "source": [
    "run_to_result = run_result.load(\"spectra/schedule2-v1.res\")\n",
    "passing_spectra, failing_spectra = run_result.\\\n",
    "                                   get_passing_failing(run_to_result)"
   ]
  },
  {
   "cell_type": "code",
   "execution_count": 11,
   "metadata": {
    "collapsed": false
   },
   "outputs": [
    {
     "data": {
      "text/plain": [
       "65"
      ]
     },
     "execution_count": 11,
     "metadata": {},
     "output_type": "execute_result"
    }
   ],
   "source": [
    "len(passing_spectra)\n",
    "len(failing_spectra)"
   ]
  },
  {
   "cell_type": "code",
   "execution_count": null,
   "metadata": {
    "collapsed": true
   },
   "outputs": [],
   "source": []
  }
 ],
 "metadata": {
  "kernelspec": {
   "display_name": "Python 3",
   "language": "python",
   "name": "python3"
  },
  "language_info": {
   "codemirror_mode": {
    "name": "ipython",
    "version": 3
   },
   "file_extension": ".py",
   "mimetype": "text/x-python",
   "name": "python",
   "nbconvert_exporter": "python",
   "pygments_lexer": "ipython3",
   "version": "3.4.3"
  }
 },
 "nbformat": 4,
 "nbformat_minor": 0
}

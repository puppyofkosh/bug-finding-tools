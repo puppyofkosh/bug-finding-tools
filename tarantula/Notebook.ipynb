{
 "cells": [
  {
   "cell_type": "code",
   "execution_count": 197,
   "metadata": {
    "collapsed": false
   },
   "outputs": [],
   "source": [
    "from imp import reload\n",
    "import run_result\n",
    "reload(run_result)\n",
    "import tarantula\n",
    "reload(tarantula)\n",
    "import spectra_filter\n",
    "reload(spectra_filter)\n",
    "import feature_computer\n",
    "reload(feature_computer)\n",
    "import main\n",
    "reload(main)\n",
    "\n",
    "import matplotlib.pyplot as plt\n",
    "\n",
    "FEAT_FILE = \"features/totinfo-v16.feat\"\n",
    "SPEC_FILE = \"spectra/totinfo-v16.res\""
   ]
  },
  {
   "cell_type": "code",
   "execution_count": 189,
   "metadata": {
    "collapsed": false
   },
   "outputs": [],
   "source": [
    "features = feature_computer.load(FEAT_FILE)\n"
   ]
  },
  {
   "cell_type": "code",
   "execution_count": 190,
   "metadata": {
    "collapsed": false,
    "scrolled": true
   },
   "outputs": [],
   "source": [
    "furthest = [f.lowest_ratio_failing_both_exec for f in features.values()]\n",
    "closest = [f.highest_ratio_failing_both_exec for f in features.values()]\n",
    "avg = [f.avg_ratio_failing_both_exec for f in features.values()]"
   ]
  },
  {
   "cell_type": "code",
   "execution_count": 191,
   "metadata": {
    "collapsed": false
   },
   "outputs": [],
   "source": [
    "n, bins, patches = plt.hist(furthest, 50, normed=1, facecolor='green', alpha=0.75)\n",
    "plt.show()"
   ]
  },
  {
   "cell_type": "code",
   "execution_count": 207,
   "metadata": {
    "collapsed": true
   },
   "outputs": [],
   "source": [
    "run_to_result = run_result.load(SPEC_FILE)\n",
    "passing_spectra, failing_spectra = run_result.\\\n",
    "                                   get_passing_failing(run_to_result)\n",
    "    \n"
   ]
  },
  {
   "cell_type": "code",
   "execution_count": 240,
   "metadata": {
    "collapsed": false,
    "scrolled": true
   },
   "outputs": [
    {
     "data": {
      "text/plain": [
       "0.9426229508196722"
      ]
     },
     "execution_count": 240,
     "metadata": {},
     "output_type": "execute_result"
    }
   ],
   "source": [
    "(reg_ranks, reg_suspiciousness, reg_line, reg_score) = main.get_tarantula_output(\"totinfo\", \"v8\", False)\n",
    "reg_score"
   ]
  },
  {
   "cell_type": "code",
   "execution_count": 239,
   "metadata": {
    "collapsed": false
   },
   "outputs": [
    {
     "name": "stdout",
     "output_type": "stream",
     "text": [
      "0.9590163934426229\n"
     ]
    }
   ],
   "source": [
    "(f_ranks, f_suspiciousness, f_line, f_score) = main.get_tarantula_output(\"totinfo\", \"v8\", True)\n",
    "print(f_score)"
   ]
  },
  {
   "cell_type": "code",
   "execution_count": 117,
   "metadata": {
    "collapsed": false,
    "scrolled": true
   },
   "outputs": [],
   "source": [
    "with_line = {t:p for t,p in passing_spectra.items() if p[355] == 1}\n",
    "with_line_features = {t:features[t] for t in with_line}"
   ]
  },
  {
   "cell_type": "code",
   "execution_count": 118,
   "metadata": {
    "collapsed": false
   },
   "outputs": [],
   "source": [
    "test = [f[1] for f in with_line_features.values()]\n",
    "n, bins, patches = plt.hist(test, 50, normed=1, facecolor='green', alpha=0.75)\n",
    "plt.show()"
   ]
  },
  {
   "cell_type": "code",
   "execution_count": 149,
   "metadata": {
    "collapsed": false
   },
   "outputs": [
    {
     "data": {
      "text/plain": [
       "9"
      ]
     },
     "execution_count": 149,
     "metadata": {},
     "output_type": "execute_result"
    }
   ],
   "source": [
    "reg_ranks[223]"
   ]
  },
  {
   "cell_type": "code",
   "execution_count": 209,
   "metadata": {
    "collapsed": false
   },
   "outputs": [
    {
     "data": {
      "text/plain": [
       "170"
      ]
     },
     "execution_count": 209,
     "metadata": {},
     "output_type": "execute_result"
    }
   ],
   "source": [
    "len(failing_spectra)"
   ]
  },
  {
   "cell_type": "code",
   "execution_count": null,
   "metadata": {
    "collapsed": true
   },
   "outputs": [],
   "source": []
  }
 ],
 "metadata": {
  "kernelspec": {
   "display_name": "Python 3",
   "language": "python",
   "name": "python3"
  },
  "language_info": {
   "codemirror_mode": {
    "name": "ipython",
    "version": 3
   },
   "file_extension": ".py",
   "mimetype": "text/x-python",
   "name": "python",
   "nbconvert_exporter": "python",
   "pygments_lexer": "ipython3",
   "version": "3.4.3"
  }
 },
 "nbformat": 4,
 "nbformat_minor": 0
}

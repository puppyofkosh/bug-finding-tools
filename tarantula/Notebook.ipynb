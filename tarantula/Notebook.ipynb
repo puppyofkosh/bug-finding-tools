{
 "cells": [
  {
   "cell_type": "code",
   "execution_count": 83,
   "metadata": {
    "collapsed": false
   },
   "outputs": [],
   "source": [
    "from imp import reload\n",
    "import run_result\n",
    "reload(run_result)\n",
    "import tarantula\n",
    "reload(tarantula)\n",
    "import spectra_filter\n",
    "reload(spectra_filter)\n",
    "\n",
    "import matplotlib.pyplot as plt\n"
   ]
  },
  {
   "cell_type": "code",
   "execution_count": 102,
   "metadata": {
    "collapsed": false
   },
   "outputs": [],
   "source": [
    "run_to_result = run_result.load(\"spectra/totinfo-v1.res\")\n",
    "passing_res, failing_res = run_result.get_passing_failing(run_to_result)\n",
    "\n",
    "failing_counts = tarantula._sum_spectra(failing_res)\n",
    "passing_counts = tarantula._sum_spectra(passing_res)\n"
   ]
  },
  {
   "cell_type": "code",
   "execution_count": 105,
   "metadata": {
    "collapsed": true
   },
   "outputs": [],
   "source": [
    "BUGGY_LINE = 342\n"
   ]
  },
  {
   "cell_type": "code",
   "execution_count": 72,
   "metadata": {
    "collapsed": true
   },
   "outputs": [],
   "source": [
    "def get_all_differences(spectra_a, spectra_b):\n",
    "    diff = []\n",
    "    for f1 in spectra_a:\n",
    "        for f2 in spectra_b:\n",
    "            if f1.equals(f2):\n",
    "                continue\n",
    "            diff.append(spectra_filter._spectra_difference(f1, f2))\n",
    "    return diff"
   ]
  },
  {
   "cell_type": "code",
   "execution_count": 73,
   "metadata": {
    "collapsed": false
   },
   "outputs": [],
   "source": [
    "fail_differences = get_all_differences(failing_res, failing_res)\n"
   ]
  },
  {
   "cell_type": "code",
   "execution_count": 56,
   "metadata": {
    "collapsed": false
   },
   "outputs": [],
   "source": [
    "n, bins, patches = plt.hist(fail_differences, 50, normed=1, facecolor='green', alpha=0.75)\n",
    "plt.show()"
   ]
  },
  {
   "cell_type": "code",
   "execution_count": 48,
   "metadata": {
    "collapsed": true
   },
   "outputs": [],
   "source": [
    "all_differences = get_all_differences(passing_res, failing_res)"
   ]
  },
  {
   "cell_type": "code",
   "execution_count": 41,
   "metadata": {
    "collapsed": true
   },
   "outputs": [],
   "source": [
    "n, bins, patches = plt.hist(all_differences, 50, normed=1, facecolor='green', alpha=0.75)\n",
    "plt.show()"
   ]
  },
  {
   "cell_type": "code",
   "execution_count": 106,
   "metadata": {
    "collapsed": false
   },
   "outputs": [],
   "source": [
    "# Show distribution of differences in spectra between failing test cases and passing cases which have the buggy line num\n",
    "\n",
    "passing_without_line = [p for p in passing_res if p[BUGGY_LINE] == 0]\n",
    "furthest_diffs_noline = [spectra_filter.dist_from_furthest(p, failing_res) for p in passing_without_line]\n",
    "closest_diffs_noline = [spectra_filter.dist_from_closest(p, failing_res) for p in passing_without_line]\n",
    "avg_diffs_noline = [spectra_filter.avg_distance(p, failing_res) for p in passing_without_line]"
   ]
  },
  {
   "cell_type": "code",
   "execution_count": 88,
   "metadata": {
    "collapsed": true
   },
   "outputs": [],
   "source": [
    "passing_with_line = [p for p in passing_res if p[BUGGY_LINE] == 1]\n",
    "furthest_diffs_line = [spectra_filter.dist_from_furthest(p, failing_res) for p in passing_with_line]\n",
    "closest_diffs_line = [spectra_filter.dist_from_closest(p, failing_res) for p in passing_with_line]\n",
    "avg_diffs_line = [spectra_filter.avg_distance(p, failing_res) for p in passing_with_line]"
   ]
  },
  {
   "cell_type": "code",
   "execution_count": 104,
   "metadata": {
    "collapsed": false
   },
   "outputs": [],
   "source": [
    "n, bins, patches = plt.hist(closest_diffs_noline, 50, normed=0, facecolor='green', alpha=0.75)\n",
    "plt.show()"
   ]
  },
  {
   "cell_type": "code",
   "execution_count": 96,
   "metadata": {
    "collapsed": false
   },
   "outputs": [
    {
     "data": {
      "text/plain": [
       "635"
      ]
     },
     "execution_count": 96,
     "metadata": {},
     "output_type": "execute_result"
    }
   ],
   "source": [
    "len(passing_with_line)"
   ]
  },
  {
   "cell_type": "code",
   "execution_count": 60,
   "metadata": {
    "collapsed": false
   },
   "outputs": [],
   "source": [
    "diffs = [spectra_filter.furthest_failing_test(p, failing_res) for p in passing_res]\n",
    "relevant_diffs = [spectra_filter.furthest_failing_test(p, failing_res) for p in passing_with_line]"
   ]
  },
  {
   "cell_type": "code",
   "execution_count": 55,
   "metadata": {
    "collapsed": true
   },
   "outputs": [],
   "source": [
    "n, bins, patches = plt.hist(relevant_diffs, 50, normed=1, facecolor='green', alpha=0.75)\n",
    "plt.show()"
   ]
  },
  {
   "cell_type": "code",
   "execution_count": 61,
   "metadata": {
    "collapsed": true
   },
   "outputs": [],
   "source": [
    "def avg_distance(spectrum, spectra):\n",
    "    total_dist = 0\n",
    "    for s in spectra:\n",
    "        total_dist += spectra_filter._spectra_difference(s, spectrum)\n",
    "    return float(total_dist) / len(spectra)"
   ]
  },
  {
   "cell_type": "code",
   "execution_count": 68,
   "metadata": {
    "collapsed": false
   },
   "outputs": [],
   "source": [
    "diffs = [avg_distance(f, failing_res) for f in failing_res]\n",
    "n, bins, patches = plt.hist(diffs, 50, normed=1, facecolor='green', alpha=0.75)\n",
    "plt.show()"
   ]
  },
  {
   "cell_type": "code",
   "execution_count": null,
   "metadata": {
    "collapsed": true
   },
   "outputs": [],
   "source": []
  }
 ],
 "metadata": {
  "kernelspec": {
   "display_name": "Python 3",
   "language": "python",
   "name": "python3"
  },
  "language_info": {
   "codemirror_mode": {
    "name": "ipython",
    "version": 3
   },
   "file_extension": ".py",
   "mimetype": "text/x-python",
   "name": "python",
   "nbconvert_exporter": "python",
   "pygments_lexer": "ipython3",
   "version": "3.4.3"
  }
 },
 "nbformat": 4,
 "nbformat_minor": 0
}
